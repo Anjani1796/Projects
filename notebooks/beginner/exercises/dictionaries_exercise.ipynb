{
  "nbformat": 4,
  "nbformat_minor": 0,
  "metadata": {
    "celltoolbar": "Edit Metadata",
    "kernelspec": {
      "display_name": "Python 3",
      "language": "python",
      "name": "python3"
    },
    "language_info": {
      "codemirror_mode": {
        "name": "ipython",
        "version": 3
      },
      "file_extension": ".py",
      "mimetype": "text/x-python",
      "name": "python",
      "nbconvert_exporter": "python",
      "pygments_lexer": "ipython3",
      "version": "3.5.4"
    },
    "colab": {
      "name": "dictionaries_exercise.ipynb",
      "provenance": [],
      "include_colab_link": true
    }
  },
  "cells": [
    {
      "cell_type": "markdown",
      "metadata": {
        "id": "view-in-github",
        "colab_type": "text"
      },
      "source": [
        "<a href=\"https://colab.research.google.com/github/Anjani1796/Projects/blob/master/notebooks/beginner/exercises/dictionaries_exercise.ipynb\" target=\"_parent\"><img src=\"https://colab.research.google.com/assets/colab-badge.svg\" alt=\"Open In Colab\"/></a>"
      ]
    },
    {
      "cell_type": "markdown",
      "metadata": {
        "id": "YCOV_NoV3B5E"
      },
      "source": [
        "# 1. Populating a dictionary\n",
        "Create a dictionary by using all the given variables."
      ]
    },
    {
      "cell_type": "code",
      "metadata": {
        "editable": false,
        "id": "Jr1rvXfi3B5O"
      },
      "source": [
        "first_name = 'John'\n",
        "last_name = 'Doe'\n",
        "favorite_hobby = 'Python'\n",
        "sports_hobby = 'gym'\n",
        "age = 82"
      ],
      "execution_count": 1,
      "outputs": []
    },
    {
      "cell_type": "code",
      "metadata": {
        "id": "bC6KB7bO3B5T",
        "outputId": "fadb8773-7e5c-4ad9-b8e9-e8c6e2424dfb",
        "colab": {
          "base_uri": "https://localhost:8080/"
        }
      },
      "source": [
        "# Your implementation\n",
        "my_dict = {'name': first_name + ' ' + last_name, 'age':age, 'hobbies': [favorite_hobby, sports_hobby]}\n",
        "print(my_dict)"
      ],
      "execution_count": 3,
      "outputs": [
        {
          "output_type": "stream",
          "text": [
            "{'name': 'John Doe', 'age': 82, 'hobbies': ['Python', 'gym']}\n"
          ],
          "name": "stdout"
        }
      ]
    },
    {
      "cell_type": "code",
      "metadata": {
        "editable": false,
        "id": "e4eZr_tY3B5U"
      },
      "source": [
        "assert my_dict == {\n",
        "        'name': 'John Doe',\n",
        "        'age': 82,\n",
        "        'hobbies': ['Python', 'gym']\n",
        "    }"
      ],
      "execution_count": null,
      "outputs": []
    },
    {
      "cell_type": "markdown",
      "metadata": {
        "id": "_36DKizL3B5W"
      },
      "source": [
        "# 2. Accessing and merging dictionaries\n",
        "Combine `dict1`, `dict2`, and `dict3` into `my_dict`. In addition, get the value of `special_key` from `my_dict` into a `special_value` variable. Note that original dictionaries should stay untouched and `special_key` should be removed from `my_dict`."
      ]
    },
    {
      "cell_type": "code",
      "metadata": {
        "editable": false,
        "id": "VCLb5nZ_3B5X",
        "outputId": "a3b09da5-8220-4ab6-d08d-04dee1c04366",
        "colab": {
          "base_uri": "https://localhost:8080/"
        }
      },
      "source": [
        "dict1 = dict(key1='This is not that hard', key2='Python is still cool')\n",
        "print(dict1)\n",
        "dict2 = {'key1': 123, 'special_key': 'secret'}\n",
        "print(dict2)\n",
        "\n",
        "# This is also a away to initialize a dict (list of tuples) \n",
        "dict3 = dict([('key2', 456), ('keyX', 'X')])\n",
        "print(dict3)\n"
      ],
      "execution_count": 21,
      "outputs": [
        {
          "output_type": "stream",
          "text": [
            "{'key1': 'This is not that hard', 'key2': 'Python is still cool'}\n",
            "{'key1': 123, 'special_key': 'secret'}\n",
            "{'key2': 456, 'keyX': 'X'}\n"
          ],
          "name": "stdout"
        }
      ]
    },
    {
      "cell_type": "code",
      "metadata": {
        "id": "kd4mKL7N3B5Y",
        "outputId": "77934e7a-7199-4b4c-be86-03d8c8c4a7af",
        "colab": {
          "base_uri": "https://localhost:8080/"
        }
      },
      "source": [
        "# 'Your impelementation'\n",
        "\n",
        "my_dict = dict1.copy()\n",
        "my_dict.update(dict2)\n",
        "my_dict.update(dict3)\n",
        "print(dict1)\n",
        "print(dict2)\n",
        "print(dict3)\n",
        "\n",
        "my_dict.pop(\"special_key\")\n",
        "print(my_dict)\n",
        "# special_value = "
      ],
      "execution_count": 25,
      "outputs": [
        {
          "output_type": "stream",
          "text": [
            "{'key1': 'This is not that hard', 'key2': 'Python is still cool'}\n",
            "{'key1': 123, 'special_key': 'secret'}\n",
            "{'key2': 456, 'keyX': 'X'}\n",
            "{'key1': 123, 'key2': 456, 'keyX': 'X'}\n"
          ],
          "name": "stdout"
        }
      ]
    },
    {
      "cell_type": "code",
      "metadata": {
        "editable": false,
        "id": "oJKRqsLy3B5Z"
      },
      "source": [
        "assert my_dict == {'key1': 123, 'key2': 456, 'keyX': 'X'}\n",
        "assert special_value == 'secret'\n",
        "\n",
        "# Let's check that the originals are untouched\n",
        "assert dict1 == {\n",
        "        'key1': 'This is not that hard',\n",
        "        'key2': 'Python is still cool'\n",
        "    }\n",
        "assert dict2 == {'key1': 123, 'special_key': 'secret'}\n",
        "assert dict3 == {'key2': 456, 'keyX': 'X'}"
      ],
      "execution_count": null,
      "outputs": []
    }
  ]
}