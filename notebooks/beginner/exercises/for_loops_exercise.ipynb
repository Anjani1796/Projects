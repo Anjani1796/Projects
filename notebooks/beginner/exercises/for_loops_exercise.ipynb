{
  "nbformat": 4,
  "nbformat_minor": 0,
  "metadata": {
    "kernelspec": {
      "display_name": "Python 3",
      "language": "python",
      "name": "python3"
    },
    "language_info": {
      "codemirror_mode": {
        "name": "ipython",
        "version": 3
      },
      "file_extension": ".py",
      "mimetype": "text/x-python",
      "name": "python",
      "nbconvert_exporter": "python",
      "pygments_lexer": "ipython3",
      "version": "3.5.4"
    },
    "colab": {
      "name": "for_loops_exercise.ipynb",
      "provenance": [],
      "include_colab_link": true
    }
  },
  "cells": [
    {
      "cell_type": "markdown",
      "metadata": {
        "id": "view-in-github",
        "colab_type": "text"
      },
      "source": [
        "<a href=\"https://colab.research.google.com/github/Anjani1796/Projects/blob/master/notebooks/beginner/exercises/for_loops_exercise.ipynb\" target=\"_parent\"><img src=\"https://colab.research.google.com/assets/colab-badge.svg\" alt=\"Open In Colab\"/></a>"
      ]
    },
    {
      "cell_type": "markdown",
      "metadata": {
        "id": "PDdiCHpBtouk"
      },
      "source": [
        "# 1. Fill the missing pieces\n",
        "Fill the `____` parts in the code below."
      ]
    },
    {
      "cell_type": "code",
      "metadata": {
        "id": "pE3VUSlZtouo",
        "outputId": "9cac34ef-2308-4550-d873-53e004cd08f6",
        "colab": {
          "base_uri": "https://localhost:8080/"
        }
      },
      "source": [
        "words = ['PYTHON', 'JOHN', 'chEEse', 'hAm', 'DOE', '123']\n",
        "upper_case_words = []\n",
        "\n",
        "for i in words:\n",
        "    if i.isupper():\n",
        "        upper_case_words.append(i)\n",
        "print(upper_case_words)"
      ],
      "execution_count": 2,
      "outputs": [
        {
          "output_type": "stream",
          "text": [
            "['PYTHON', 'JOHN', 'DOE']\n"
          ],
          "name": "stdout"
        }
      ]
    },
    {
      "cell_type": "code",
      "metadata": {
        "editable": false,
        "id": "2FhgvL9ztouq"
      },
      "source": [
        "assert upper_case_words == ['PYTHON', 'JOHN', 'DOE']"
      ],
      "execution_count": null,
      "outputs": []
    },
    {
      "cell_type": "markdown",
      "metadata": {
        "id": "hxBelFIatour"
      },
      "source": [
        "# 2. Calculate the sum of dict values\n",
        "Calculate the sum of the values in `magic_dict` by taking only into account numeric values (hint: see [isinstance](https://docs.python.org/3/library/functions.html#isinstance)). "
      ]
    },
    {
      "cell_type": "code",
      "metadata": {
        "editable": false,
        "id": "1E3EXVlvtour"
      },
      "source": [
        "magic_dict = dict(val1=44, val2='secret value', val3=55.0, val4=1)"
      ],
      "execution_count": 11,
      "outputs": []
    },
    {
      "cell_type": "code",
      "metadata": {
        "id": "ddUi4lXBtous",
        "outputId": "dede60b5-b3c6-4911-d294-4fe9ff76ff81",
        "colab": {
          "base_uri": "https://localhost:8080/"
        }
      },
      "source": [
        "# Your implementation\n",
        "sum_of_values =   0  \n",
        "for key in magic_dict.values():\n",
        "  if isinstance(key, int) or isinstance(key, float):\n",
        "    sum_of_values += key\n",
        "    # print(key)\n",
        "\n",
        "print(sum_of_values)"
      ],
      "execution_count": 16,
      "outputs": [
        {
          "output_type": "stream",
          "text": [
            "100.0\n"
          ],
          "name": "stdout"
        }
      ]
    },
    {
      "cell_type": "code",
      "metadata": {
        "editable": false,
        "id": "pjk_YDtAtous"
      },
      "source": [
        "assert sum_of_values == 100"
      ],
      "execution_count": null,
      "outputs": []
    },
    {
      "cell_type": "markdown",
      "metadata": {
        "id": "TgkKhg-htout"
      },
      "source": [
        "# 3. Create a list of strings based on a list of numbers\n",
        "The rules:\n",
        "* If the number is a multiple of five and odd, the string should be `'five odd'`\n",
        "* If the number is a multiple of five and even, the string should be `'five even'`\n",
        "* If the number is odd, the string is `'odd'`\n",
        "* If the number is even, the string is `'even'`"
      ]
    },
    {
      "cell_type": "code",
      "metadata": {
        "editable": false,
        "id": "HbHyyniztout"
      },
      "source": [
        "numbers = [1, 3, 4, 6, 81, 80, 100, 95]"
      ],
      "execution_count": 6,
      "outputs": []
    },
    {
      "cell_type": "code",
      "metadata": {
        "id": "XhURMiAWtouu",
        "outputId": "f3245d83-221e-4b2d-c357-1a008fba6231",
        "colab": {
          "base_uri": "https://localhost:8080/"
        }
      },
      "source": [
        "# Your implementation\n",
        "my_list = []\n",
        "five = 'five '\n",
        "even, odd = 'even', 'odd'\n",
        "for i in numbers:\n",
        "  if i%2==0:\n",
        "    if i %5==0:\n",
        "      my_list.append(five+even)\n",
        "    else:\n",
        "      my_list.append(even)\n",
        "\n",
        "  else:\n",
        "    if i %5==0:\n",
        "        my_list.append(five+odd)\n",
        "    else:\n",
        "        my_list.append(odd)\n",
        "print(my_list)\n",
        "\n"
      ],
      "execution_count": 10,
      "outputs": [
        {
          "output_type": "stream",
          "text": [
            "['odd', 'odd', 'even', 'even', 'odd', 'five even', 'five even', 'five odd']\n"
          ],
          "name": "stdout"
        }
      ]
    },
    {
      "cell_type": "code",
      "metadata": {
        "editable": false,
        "id": "S7ViEeeItouu"
      },
      "source": [
        "assert my_list == ['odd', 'odd', 'even', 'even', 'odd', 'five even', 'five even', 'five odd']"
      ],
      "execution_count": null,
      "outputs": []
    }
  ]
}