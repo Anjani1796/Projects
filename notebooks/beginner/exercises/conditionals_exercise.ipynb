{
  "nbformat": 4,
  "nbformat_minor": 0,
  "metadata": {
    "kernelspec": {
      "display_name": "Python 3",
      "language": "python",
      "name": "python3"
    },
    "language_info": {
      "codemirror_mode": {
        "name": "ipython",
        "version": 3
      },
      "file_extension": ".py",
      "mimetype": "text/x-python",
      "name": "python",
      "nbconvert_exporter": "python",
      "pygments_lexer": "ipython3",
      "version": "3.5.4"
    },
    "colab": {
      "name": "conditionals_exercise.ipynb",
      "provenance": [],
      "include_colab_link": true
    }
  },
  "cells": [
    {
      "cell_type": "markdown",
      "metadata": {
        "id": "view-in-github",
        "colab_type": "text"
      },
      "source": [
        "<a href=\"https://colab.research.google.com/github/Anjani1796/Projects/blob/master/notebooks/beginner/exercises/conditionals_exercise.ipynb\" target=\"_parent\"><img src=\"https://colab.research.google.com/assets/colab-badge.svg\" alt=\"Open In Colab\"/></a>"
      ]
    },
    {
      "cell_type": "markdown",
      "metadata": {
        "id": "oWFksdTvsuy6"
      },
      "source": [
        "# 1. `if-elif-else`\n",
        "Fill missing pieces (`____`) of the following code such that prints make sense."
      ]
    },
    {
      "cell_type": "code",
      "metadata": {
        "editable": false,
        "id": "nsnwcczDsuy-"
      },
      "source": [
        "name = 'John Doe'"
      ],
      "execution_count": 1,
      "outputs": []
    },
    {
      "cell_type": "code",
      "metadata": {
        "id": "jy3YZ1t3suy_",
        "outputId": "69759640-6c7d-419e-b8ee-4974f0f5418a",
        "colab": {
          "base_uri": "https://localhost:8080/"
        }
      },
      "source": [
        "if len(name)>20:\n",
        "    print('Name \"{}\" is more than 20 chars long'.format(name))\n",
        "    length_description = 'long'\n",
        "elif len(name)>15:\n",
        "    print('Name \"{}\" is more than 15 chars long'.format(name))\n",
        "    length_description = 'semi long'\n",
        "elif len(name)>10:\n",
        "    print('Name \"{}\" is more than 10 chars long'.format(name))\n",
        "    length_description = 'semi long'\n",
        "elif 8<=len(name)<=10:\n",
        "    print('Name \"{}\" is 8, 9 or 10 chars long'.format(name))\n",
        "    length_description = 'semi short'\n",
        "else:\n",
        "    print('Name \"{}\" is a short name'.format(name))\n",
        "    length_description = 'short'"
      ],
      "execution_count": 3,
      "outputs": [
        {
          "output_type": "stream",
          "text": [
            "Name \"John Doe\" is 8, 9 or 10 chars long\n"
          ],
          "name": "stdout"
        }
      ]
    },
    {
      "cell_type": "code",
      "metadata": {
        "editable": false,
        "id": "MypxkGRcsuzA"
      },
      "source": [
        "assert length_description == 'semi short'"
      ],
      "execution_count": null,
      "outputs": []
    }
  ]
}