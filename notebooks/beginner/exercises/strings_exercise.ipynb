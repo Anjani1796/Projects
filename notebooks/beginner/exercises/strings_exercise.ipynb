{
  "nbformat": 4,
  "nbformat_minor": 0,
  "metadata": {
    "kernelspec": {
      "display_name": "Python 3",
      "language": "python",
      "name": "python3"
    },
    "language_info": {
      "codemirror_mode": {
        "name": "ipython",
        "version": 3
      },
      "file_extension": ".py",
      "mimetype": "text/x-python",
      "name": "python",
      "nbconvert_exporter": "python",
      "pygments_lexer": "ipython3",
      "version": "3.5.4"
    },
    "colab": {
      "name": "strings_exercise.ipynb",
      "provenance": [],
      "include_colab_link": true
    }
  },
  "cells": [
    {
      "cell_type": "markdown",
      "metadata": {
        "id": "view-in-github",
        "colab_type": "text"
      },
      "source": [
        "<a href=\"https://colab.research.google.com/github/Anjani1796/Projects/blob/master/notebooks/beginner/exercises/strings_exercise.ipynb\" target=\"_parent\"><img src=\"https://colab.research.google.com/assets/colab-badge.svg\" alt=\"Open In Colab\"/></a>"
      ]
    },
    {
      "cell_type": "markdown",
      "metadata": {
        "id": "U5aMOH5TwSQo"
      },
      "source": [
        "# 1. Fill missing pieces\n",
        "Fill `____` pieces below to have correct values for `lower_cased`, `stripped` and `stripped_lower_case` variables."
      ]
    },
    {
      "cell_type": "code",
      "metadata": {
        "id": "fZ3vth3kwSQt",
        "outputId": "dbe8ebde-c5d1-4594-bc81-1ef020570f1f",
        "colab": {
          "base_uri": "https://localhost:8080/"
        }
      },
      "source": [
        "original = ' Python strings are COOL! '\n",
        "lower_cased = original.lower()\n",
        "print(lower_cased)\n",
        "stripped = original.strip(' ')\n",
        "print(stripped)\n",
        "stripped_lower_cased = original.lower().strip(' ')\n",
        "print(stripped_lower_cased)"
      ],
      "execution_count": 7,
      "outputs": [
        {
          "output_type": "stream",
          "text": [
            " python strings are cool! \n",
            "Python strings are COOL!\n",
            "python strings are cool!\n"
          ],
          "name": "stdout"
        }
      ]
    },
    {
      "cell_type": "markdown",
      "metadata": {
        "id": "zj2QVbqJwSQv"
      },
      "source": [
        "Let's verify that the implementation is correct by running the cell below. `assert` will raise `AssertionError` if the statement is not true.  "
      ]
    },
    {
      "cell_type": "code",
      "metadata": {
        "editable": false,
        "id": "n3JhYSJiwSQw"
      },
      "source": [
        "assert lower_cased == ' python strings are cool! '\n",
        "assert stripped == 'Python strings are COOL!'\n",
        "assert stripped_lower_cased == 'python strings are cool!'"
      ],
      "execution_count": null,
      "outputs": []
    },
    {
      "cell_type": "markdown",
      "metadata": {
        "id": "MaBQENzXwSQx"
      },
      "source": [
        "# 2. Prettify ugly string\n",
        "Use `str` methods to convert `ugly` to wanted `pretty`."
      ]
    },
    {
      "cell_type": "code",
      "metadata": {
        "editable": false,
        "id": "yC2mol_BwSQx",
        "outputId": "f2f17b94-1a37-42c7-96b6-55432b33a5ff",
        "colab": {
          "base_uri": "https://localhost:8080/"
        }
      },
      "source": [
        "ugly = ' tiTle of MY new Book\\n\\n'\n",
        "result = str(ugly.title().rstrip())\n",
        "print(result)"
      ],
      "execution_count": 11,
      "outputs": [
        {
          "output_type": "stream",
          "text": [
            " Title Of My New Book\n"
          ],
          "name": "stdout"
        }
      ]
    },
    {
      "cell_type": "code",
      "metadata": {
        "id": "ynPSu93uwSQy",
        "outputId": "68082551-479e-402b-8305-2b770dc2624c",
        "colab": {
          "base_uri": "https://localhost:8080/",
          "height": 195
        }
      },
      "source": [
        "# Your implementation:\n",
        "pretty = 'preety'\n",
        "result = str(ugly.title().rstrip())"
      ],
      "execution_count": 10,
      "outputs": [
        {
          "output_type": "error",
          "ename": "NameError",
          "evalue": "ignored",
          "traceback": [
            "\u001b[0;31m---------------------------------------------------------------------------\u001b[0m",
            "\u001b[0;31mNameError\u001b[0m                                 Traceback (most recent call last)",
            "\u001b[0;32m<ipython-input-10-5c5c435f0fdd>\u001b[0m in \u001b[0;36m<module>\u001b[0;34m()\u001b[0m\n\u001b[1;32m      1\u001b[0m \u001b[0;31m# Your implementation:\u001b[0m\u001b[0;34m\u001b[0m\u001b[0;34m\u001b[0m\u001b[0;34m\u001b[0m\u001b[0m\n\u001b[1;32m      2\u001b[0m \u001b[0mpretty\u001b[0m \u001b[0;34m=\u001b[0m \u001b[0;34m'preety'\u001b[0m\u001b[0;34m\u001b[0m\u001b[0;34m\u001b[0m\u001b[0m\n\u001b[0;32m----> 3\u001b[0;31m \u001b[0mresult\u001b[0m \u001b[0;34m=\u001b[0m \u001b[0mstr\u001b[0m\u001b[0;34m(\u001b[0m\u001b[0mugly\u001b[0m\u001b[0;34m.\u001b[0m\u001b[0mtitle\u001b[0m\u001b[0;34m(\u001b[0m\u001b[0;34m)\u001b[0m\u001b[0;34m.\u001b[0m\u001b[0mrstrip\u001b[0m\u001b[0;34m(\u001b[0m\u001b[0;34m)\u001b[0m\u001b[0;34m)\u001b[0m\u001b[0;34m\u001b[0m\u001b[0;34m\u001b[0m\u001b[0m\n\u001b[0m",
            "\u001b[0;31mNameError\u001b[0m: name 'ugly' is not defined"
          ]
        }
      ]
    },
    {
      "cell_type": "markdown",
      "metadata": {
        "id": "95NpNFkLwSQz"
      },
      "source": [
        "Let's make sure that it does what we want. `assert` raises [`AssertionError`](https://docs.python.org/3/library/exceptions.html#AssertionError) if the statement is not `True`."
      ]
    },
    {
      "cell_type": "code",
      "metadata": {
        "editable": false,
        "id": "AJXBXujpwSQz",
        "outputId": "1bce3304-a399-4a59-c4ce-18196d029e9a",
        "colab": {
          "base_uri": "https://localhost:8080/",
          "height": 178
        }
      },
      "source": [
        "print('pretty: {}'.format(pretty))\n",
        "assert pretty == 'Title Of My New Book'"
      ],
      "execution_count": 8,
      "outputs": [
        {
          "output_type": "error",
          "ename": "NameError",
          "evalue": "ignored",
          "traceback": [
            "\u001b[0;31m---------------------------------------------------------------------------\u001b[0m",
            "\u001b[0;31mNameError\u001b[0m                                 Traceback (most recent call last)",
            "\u001b[0;32m<ipython-input-8-394bcb4c2ccd>\u001b[0m in \u001b[0;36m<module>\u001b[0;34m()\u001b[0m\n\u001b[0;32m----> 1\u001b[0;31m \u001b[0mprint\u001b[0m\u001b[0;34m(\u001b[0m\u001b[0;34m'pretty: {}'\u001b[0m\u001b[0;34m.\u001b[0m\u001b[0mformat\u001b[0m\u001b[0;34m(\u001b[0m\u001b[0mpretty\u001b[0m\u001b[0;34m)\u001b[0m\u001b[0;34m)\u001b[0m\u001b[0;34m\u001b[0m\u001b[0;34m\u001b[0m\u001b[0m\n\u001b[0m\u001b[1;32m      2\u001b[0m \u001b[0;32massert\u001b[0m \u001b[0mpretty\u001b[0m \u001b[0;34m==\u001b[0m \u001b[0;34m'Title Of My New Book'\u001b[0m\u001b[0;34m\u001b[0m\u001b[0;34m\u001b[0m\u001b[0m\n",
            "\u001b[0;31mNameError\u001b[0m: name 'pretty' is not defined"
          ]
        }
      ]
    },
    {
      "cell_type": "markdown",
      "metadata": {
        "id": "zjSdQJWSwSQ0"
      },
      "source": [
        "# 3. Format string based on existing variables\n",
        "Create `sentence` by using `verb`, `language`, and `punctuation` and any other strings you may need."
      ]
    },
    {
      "cell_type": "code",
      "metadata": {
        "editable": false,
        "id": "wHr7KY94wSQ0"
      },
      "source": [
        "verb = 'is'\n",
        "language = 'Python'\n",
        "punctuation = '!'"
      ],
      "execution_count": null,
      "outputs": []
    },
    {
      "cell_type": "code",
      "metadata": {
        "id": "4PCZzx06wSQ1",
        "outputId": "b2708299-40cd-42a1-e48e-554b51eb7206",
        "colab": {
          "base_uri": "https://localhost:8080/"
        }
      },
      "source": [
        "# Your implementation:\n",
        "verb = 'is'\n",
        "language = 'Python'\n",
        "punctuation = '!'\n",
        "sentence = 'TODO'\n",
        "print('{} {} {} {}{}'.format('Learning', language, verb, 'fun', punctuation  ))"
      ],
      "execution_count": 13,
      "outputs": [
        {
          "output_type": "stream",
          "text": [
            "Learning Python is fun!\n"
          ],
          "name": "stdout"
        }
      ]
    },
    {
      "cell_type": "code",
      "metadata": {
        "editable": false,
        "id": "tAJJ9vyXwSQ2"
      },
      "source": [
        "print('sentence: {}'.format(sentence))\n",
        "assert sentence == 'Learning Python is fun!'"
      ],
      "execution_count": null,
      "outputs": []
    }
  ]
}